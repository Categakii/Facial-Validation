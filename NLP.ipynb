{
  "nbformat": 4,
  "nbformat_minor": 0,
  "metadata": {
    "colab": {
      "provenance": [],
      "authorship_tag": "ABX9TyNxYONE5hzz+TRKPrvvlv/3",
      "include_colab_link": true
    },
    "kernelspec": {
      "name": "python3",
      "display_name": "Python 3"
    },
    "language_info": {
      "name": "python"
    }
  },
  "cells": [
    {
      "cell_type": "markdown",
      "metadata": {
        "id": "view-in-github",
        "colab_type": "text"
      },
      "source": [
        "<a href=\"https://colab.research.google.com/github/Categakii/Facial-Validation/blob/master/NLP.ipynb\" target=\"_parent\"><img src=\"https://colab.research.google.com/assets/colab-badge.svg\" alt=\"Open In Colab\"/></a>"
      ]
    },
    {
      "cell_type": "code",
      "execution_count": 3,
      "metadata": {
        "id": "ksfi6SEEBcOh"
      },
      "outputs": [],
      "source": [
        "\n",
        "import os\n",
        "import sys\n",
        "import pandas as pd\n",
        "import nltk\n",
        "from nltk.probability import FreqDist\n",
        "from nltk.corpus import stopwords\n",
        "from nltk.tokenize import regexp_tokenize, word_tokenize, RegexpTokenizer\n",
        "import matplotlib.pyplot as plt\n",
        "import string\n",
        "import re"
      ]
    },
    {
      "cell_type": "code",
      "source": [
        "nltk.download(\"stopwords\")"
      ],
      "metadata": {
        "colab": {
          "base_uri": "https://localhost:8080/"
        },
        "id": "L73YceOPCJ5W",
        "outputId": "37237109-aa48-4a5e-bcca-72758e586b69"
      },
      "execution_count": 4,
      "outputs": [
        {
          "output_type": "stream",
          "name": "stderr",
          "text": [
            "[nltk_data] Downloading package stopwords to /root/nltk_data...\n",
            "[nltk_data]   Unzipping corpora/stopwords.zip.\n"
          ]
        },
        {
          "output_type": "execute_result",
          "data": {
            "text/plain": [
              "True"
            ]
          },
          "metadata": {},
          "execution_count": 4
        }
      ]
    },
    {
      "cell_type": "code",
      "source": [
        "corpus=pd.read_csv(\"/content/satire_nosatire.csv\")\n",
        "corpus.head(3)"
      ],
      "metadata": {
        "colab": {
          "base_uri": "https://localhost:8080/",
          "height": 480
        },
        "id": "O_JwX21-DTzn",
        "outputId": "41a377de-e8fc-457e-c24b-34a90529a59f"
      },
      "execution_count": 7,
      "outputs": [
        {
          "output_type": "execute_result",
          "data": {
            "text/plain": [
              "                                                body target Unnamed: 2  \\\n",
              "0  Noting that the resignation of James Mattis as...      1        NaN   \n",
              "1  Desperate to unwind after months of nonstop wo...      1        NaN   \n",
              "2  Nearly halfway through his presidential term, ...      1        NaN   \n",
              "\n",
              "  Unnamed: 3 Unnamed: 4 Unnamed: 5 Unnamed: 6 Unnamed: 7 Unnamed: 8  \\\n",
              "0        NaN        NaN        NaN        NaN        NaN        NaN   \n",
              "1        NaN        NaN        NaN        NaN        NaN        NaN   \n",
              "2        NaN        NaN        NaN        NaN        NaN        NaN   \n",
              "\n",
              "  Unnamed: 9  ... Unnamed: 264 Unnamed: 265 Unnamed: 266 Unnamed: 267  \\\n",
              "0        NaN  ...          NaN          NaN          NaN          NaN   \n",
              "1        NaN  ...          NaN          NaN          NaN          NaN   \n",
              "2        NaN  ...          NaN          NaN          NaN          NaN   \n",
              "\n",
              "  Unnamed: 268 Unnamed: 269 Unnamed: 270 Unnamed: 271 Unnamed: 272  \\\n",
              "0          NaN          NaN          NaN          NaN          NaN   \n",
              "1          NaN          NaN          NaN          NaN          NaN   \n",
              "2          NaN          NaN          NaN          NaN          NaN   \n",
              "\n",
              "  Unnamed: 273  \n",
              "0          NaN  \n",
              "1          NaN  \n",
              "2          NaN  \n",
              "\n",
              "[3 rows x 274 columns]"
            ],
            "text/html": [
              "\n",
              "\n",
              "  <div id=\"df-8cd961f3-1d95-4752-b159-d0670757b8f4\">\n",
              "    <div class=\"colab-df-container\">\n",
              "      <div>\n",
              "<style scoped>\n",
              "    .dataframe tbody tr th:only-of-type {\n",
              "        vertical-align: middle;\n",
              "    }\n",
              "\n",
              "    .dataframe tbody tr th {\n",
              "        vertical-align: top;\n",
              "    }\n",
              "\n",
              "    .dataframe thead th {\n",
              "        text-align: right;\n",
              "    }\n",
              "</style>\n",
              "<table border=\"1\" class=\"dataframe\">\n",
              "  <thead>\n",
              "    <tr style=\"text-align: right;\">\n",
              "      <th></th>\n",
              "      <th>body</th>\n",
              "      <th>target</th>\n",
              "      <th>Unnamed: 2</th>\n",
              "      <th>Unnamed: 3</th>\n",
              "      <th>Unnamed: 4</th>\n",
              "      <th>Unnamed: 5</th>\n",
              "      <th>Unnamed: 6</th>\n",
              "      <th>Unnamed: 7</th>\n",
              "      <th>Unnamed: 8</th>\n",
              "      <th>Unnamed: 9</th>\n",
              "      <th>...</th>\n",
              "      <th>Unnamed: 264</th>\n",
              "      <th>Unnamed: 265</th>\n",
              "      <th>Unnamed: 266</th>\n",
              "      <th>Unnamed: 267</th>\n",
              "      <th>Unnamed: 268</th>\n",
              "      <th>Unnamed: 269</th>\n",
              "      <th>Unnamed: 270</th>\n",
              "      <th>Unnamed: 271</th>\n",
              "      <th>Unnamed: 272</th>\n",
              "      <th>Unnamed: 273</th>\n",
              "    </tr>\n",
              "  </thead>\n",
              "  <tbody>\n",
              "    <tr>\n",
              "      <th>0</th>\n",
              "      <td>Noting that the resignation of James Mattis as...</td>\n",
              "      <td>1</td>\n",
              "      <td>NaN</td>\n",
              "      <td>NaN</td>\n",
              "      <td>NaN</td>\n",
              "      <td>NaN</td>\n",
              "      <td>NaN</td>\n",
              "      <td>NaN</td>\n",
              "      <td>NaN</td>\n",
              "      <td>NaN</td>\n",
              "      <td>...</td>\n",
              "      <td>NaN</td>\n",
              "      <td>NaN</td>\n",
              "      <td>NaN</td>\n",
              "      <td>NaN</td>\n",
              "      <td>NaN</td>\n",
              "      <td>NaN</td>\n",
              "      <td>NaN</td>\n",
              "      <td>NaN</td>\n",
              "      <td>NaN</td>\n",
              "      <td>NaN</td>\n",
              "    </tr>\n",
              "    <tr>\n",
              "      <th>1</th>\n",
              "      <td>Desperate to unwind after months of nonstop wo...</td>\n",
              "      <td>1</td>\n",
              "      <td>NaN</td>\n",
              "      <td>NaN</td>\n",
              "      <td>NaN</td>\n",
              "      <td>NaN</td>\n",
              "      <td>NaN</td>\n",
              "      <td>NaN</td>\n",
              "      <td>NaN</td>\n",
              "      <td>NaN</td>\n",
              "      <td>...</td>\n",
              "      <td>NaN</td>\n",
              "      <td>NaN</td>\n",
              "      <td>NaN</td>\n",
              "      <td>NaN</td>\n",
              "      <td>NaN</td>\n",
              "      <td>NaN</td>\n",
              "      <td>NaN</td>\n",
              "      <td>NaN</td>\n",
              "      <td>NaN</td>\n",
              "      <td>NaN</td>\n",
              "    </tr>\n",
              "    <tr>\n",
              "      <th>2</th>\n",
              "      <td>Nearly halfway through his presidential term, ...</td>\n",
              "      <td>1</td>\n",
              "      <td>NaN</td>\n",
              "      <td>NaN</td>\n",
              "      <td>NaN</td>\n",
              "      <td>NaN</td>\n",
              "      <td>NaN</td>\n",
              "      <td>NaN</td>\n",
              "      <td>NaN</td>\n",
              "      <td>NaN</td>\n",
              "      <td>...</td>\n",
              "      <td>NaN</td>\n",
              "      <td>NaN</td>\n",
              "      <td>NaN</td>\n",
              "      <td>NaN</td>\n",
              "      <td>NaN</td>\n",
              "      <td>NaN</td>\n",
              "      <td>NaN</td>\n",
              "      <td>NaN</td>\n",
              "      <td>NaN</td>\n",
              "      <td>NaN</td>\n",
              "    </tr>\n",
              "  </tbody>\n",
              "</table>\n",
              "<p>3 rows × 274 columns</p>\n",
              "</div>\n",
              "      <button class=\"colab-df-convert\" onclick=\"convertToInteractive('df-8cd961f3-1d95-4752-b159-d0670757b8f4')\"\n",
              "              title=\"Convert this dataframe to an interactive table.\"\n",
              "              style=\"display:none;\">\n",
              "\n",
              "  <svg xmlns=\"http://www.w3.org/2000/svg\" height=\"24px\"viewBox=\"0 0 24 24\"\n",
              "       width=\"24px\">\n",
              "    <path d=\"M0 0h24v24H0V0z\" fill=\"none\"/>\n",
              "    <path d=\"M18.56 5.44l.94 2.06.94-2.06 2.06-.94-2.06-.94-.94-2.06-.94 2.06-2.06.94zm-11 1L8.5 8.5l.94-2.06 2.06-.94-2.06-.94L8.5 2.5l-.94 2.06-2.06.94zm10 10l.94 2.06.94-2.06 2.06-.94-2.06-.94-.94-2.06-.94 2.06-2.06.94z\"/><path d=\"M17.41 7.96l-1.37-1.37c-.4-.4-.92-.59-1.43-.59-.52 0-1.04.2-1.43.59L10.3 9.45l-7.72 7.72c-.78.78-.78 2.05 0 2.83L4 21.41c.39.39.9.59 1.41.59.51 0 1.02-.2 1.41-.59l7.78-7.78 2.81-2.81c.8-.78.8-2.07 0-2.86zM5.41 20L4 18.59l7.72-7.72 1.47 1.35L5.41 20z\"/>\n",
              "  </svg>\n",
              "      </button>\n",
              "\n",
              "\n",
              "\n",
              "    <div id=\"df-cd9d3ecf-5b46-4e4d-8e0d-dc91eba03179\">\n",
              "      <button class=\"colab-df-quickchart\" onclick=\"quickchart('df-cd9d3ecf-5b46-4e4d-8e0d-dc91eba03179')\"\n",
              "              title=\"Suggest charts.\"\n",
              "              style=\"display:none;\">\n",
              "\n",
              "<svg xmlns=\"http://www.w3.org/2000/svg\" height=\"24px\"viewBox=\"0 0 24 24\"\n",
              "     width=\"24px\">\n",
              "    <g>\n",
              "        <path d=\"M19 3H5c-1.1 0-2 .9-2 2v14c0 1.1.9 2 2 2h14c1.1 0 2-.9 2-2V5c0-1.1-.9-2-2-2zM9 17H7v-7h2v7zm4 0h-2V7h2v10zm4 0h-2v-4h2v4z\"/>\n",
              "    </g>\n",
              "</svg>\n",
              "      </button>\n",
              "    </div>\n",
              "\n",
              "<style>\n",
              "  .colab-df-quickchart {\n",
              "    background-color: #E8F0FE;\n",
              "    border: none;\n",
              "    border-radius: 50%;\n",
              "    cursor: pointer;\n",
              "    display: none;\n",
              "    fill: #1967D2;\n",
              "    height: 32px;\n",
              "    padding: 0 0 0 0;\n",
              "    width: 32px;\n",
              "  }\n",
              "\n",
              "  .colab-df-quickchart:hover {\n",
              "    background-color: #E2EBFA;\n",
              "    box-shadow: 0px 1px 2px rgba(60, 64, 67, 0.3), 0px 1px 3px 1px rgba(60, 64, 67, 0.15);\n",
              "    fill: #174EA6;\n",
              "  }\n",
              "\n",
              "  [theme=dark] .colab-df-quickchart {\n",
              "    background-color: #3B4455;\n",
              "    fill: #D2E3FC;\n",
              "  }\n",
              "\n",
              "  [theme=dark] .colab-df-quickchart:hover {\n",
              "    background-color: #434B5C;\n",
              "    box-shadow: 0px 1px 3px 1px rgba(0, 0, 0, 0.15);\n",
              "    filter: drop-shadow(0px 1px 2px rgba(0, 0, 0, 0.3));\n",
              "    fill: #FFFFFF;\n",
              "  }\n",
              "</style>\n",
              "\n",
              "    <script>\n",
              "      async function quickchart(key) {\n",
              "        const containerElement = document.querySelector('#' + key);\n",
              "        const charts = await google.colab.kernel.invokeFunction(\n",
              "            'suggestCharts', [key], {});\n",
              "      }\n",
              "    </script>\n",
              "\n",
              "      <script>\n",
              "\n",
              "function displayQuickchartButton(domScope) {\n",
              "  let quickchartButtonEl =\n",
              "    domScope.querySelector('#df-cd9d3ecf-5b46-4e4d-8e0d-dc91eba03179 button.colab-df-quickchart');\n",
              "  quickchartButtonEl.style.display =\n",
              "    google.colab.kernel.accessAllowed ? 'block' : 'none';\n",
              "}\n",
              "\n",
              "        displayQuickchartButton(document);\n",
              "      </script>\n",
              "      <style>\n",
              "    .colab-df-container {\n",
              "      display:flex;\n",
              "      flex-wrap:wrap;\n",
              "      gap: 12px;\n",
              "    }\n",
              "\n",
              "    .colab-df-convert {\n",
              "      background-color: #E8F0FE;\n",
              "      border: none;\n",
              "      border-radius: 50%;\n",
              "      cursor: pointer;\n",
              "      display: none;\n",
              "      fill: #1967D2;\n",
              "      height: 32px;\n",
              "      padding: 0 0 0 0;\n",
              "      width: 32px;\n",
              "    }\n",
              "\n",
              "    .colab-df-convert:hover {\n",
              "      background-color: #E2EBFA;\n",
              "      box-shadow: 0px 1px 2px rgba(60, 64, 67, 0.3), 0px 1px 3px 1px rgba(60, 64, 67, 0.15);\n",
              "      fill: #174EA6;\n",
              "    }\n",
              "\n",
              "    [theme=dark] .colab-df-convert {\n",
              "      background-color: #3B4455;\n",
              "      fill: #D2E3FC;\n",
              "    }\n",
              "\n",
              "    [theme=dark] .colab-df-convert:hover {\n",
              "      background-color: #434B5C;\n",
              "      box-shadow: 0px 1px 3px 1px rgba(0, 0, 0, 0.15);\n",
              "      filter: drop-shadow(0px 1px 2px rgba(0, 0, 0, 0.3));\n",
              "      fill: #FFFFFF;\n",
              "    }\n",
              "  </style>\n",
              "\n",
              "      <script>\n",
              "        const buttonEl =\n",
              "          document.querySelector('#df-8cd961f3-1d95-4752-b159-d0670757b8f4 button.colab-df-convert');\n",
              "        buttonEl.style.display =\n",
              "          google.colab.kernel.accessAllowed ? 'block' : 'none';\n",
              "\n",
              "        async function convertToInteractive(key) {\n",
              "          const element = document.querySelector('#df-8cd961f3-1d95-4752-b159-d0670757b8f4');\n",
              "          const dataTable =\n",
              "            await google.colab.kernel.invokeFunction('convertToInteractive',\n",
              "                                                     [key], {});\n",
              "          if (!dataTable) return;\n",
              "\n",
              "          const docLinkHtml = 'Like what you see? Visit the ' +\n",
              "            '<a target=\"_blank\" href=https://colab.research.google.com/notebooks/data_table.ipynb>data table notebook</a>'\n",
              "            + ' to learn more about interactive tables.';\n",
              "          element.innerHTML = '';\n",
              "          dataTable['output_type'] = 'display_data';\n",
              "          await google.colab.output.renderOutput(dataTable, element);\n",
              "          const docLink = document.createElement('div');\n",
              "          docLink.innerHTML = docLinkHtml;\n",
              "          element.appendChild(docLink);\n",
              "        }\n",
              "      </script>\n",
              "    </div>\n",
              "  </div>\n"
            ]
          },
          "metadata": {},
          "execution_count": 7
        }
      ]
    },
    {
      "cell_type": "code",
      "source": [
        "corpus.loc[10].body"
      ],
      "metadata": {
        "colab": {
          "base_uri": "https://localhost:8080/",
          "height": 122
        },
        "id": "UT8O20UZDjLI",
        "outputId": "2a5d4ea5-61aa-4851-d50c-f458b3805763"
      },
      "execution_count": 15,
      "outputs": [
        {
          "output_type": "execute_result",
          "data": {
            "text/plain": [
              "'In recognition of the brave and altruistic Americans who risk their health and safety for the greater good, Pentagon officials announced Thursday that the U.S. military would honor the sacrifices of NFL players by wearing their jerseys throughout December. “Every week, these men are out there on the gridiron, putting their bodies on the line for our country. Having our soldiers wear these jerseys and caps is the least we can do to show our support,” said Pentagon spokesperson Robert D’Amato, who announced that all active-duty soldiers would be sporting gear from all 32 teams to raise awareness of the people who put their lives aside to preserve the American way of life. “These men leave their homes and their families and travel to cities across the country to uphold our nation’s traditions. They are battered and bruised for years, their lives often cut short while we sit back in our barracks and enjoy our freedom. Some of them are never the same after they end their service, and yet we take them for granted. Hopefully, this small gesture shows that the soldiers and officers of the U.S. military know who the true heroes really are.”'"
            ],
            "application/vnd.google.colaboratory.intrinsic+json": {
              "type": "string"
            }
          },
          "metadata": {},
          "execution_count": 15
        }
      ]
    },
    {
      "cell_type": "code",
      "source": [
        "corpus.target.value_counts()"
      ],
      "metadata": {
        "colab": {
          "base_uri": "https://localhost:8080/"
        },
        "id": "traXhIJdD0hK",
        "outputId": "40888b01-bf60-489d-efd2-d291a6dc5c62"
      },
      "execution_count": 16,
      "outputs": [
        {
          "output_type": "execute_result",
          "data": {
            "text/plain": [
              "0                                                                                                                                                                                                                                      500\n",
              "1                                                                                                                                                                                                                                      499\n",
              " the differences come out substantially in unemployment or vast movements of people from one country to another. Many people who talk about a single currency have never considered its full implications. Mr. Jim Sillars (Glasgow      1\n",
              "Name: target, dtype: int64"
            ]
          },
          "metadata": {},
          "execution_count": 16
        }
      ]
    },
    {
      "cell_type": "code",
      "source": [
        "first_document=corpus.iloc[10].body"
      ],
      "metadata": {
        "id": "6_yOrpaAD8ei"
      },
      "execution_count": 18,
      "outputs": []
    },
    {
      "cell_type": "code",
      "source": [],
      "metadata": {
        "id": "_MjtwmOpIOjq"
      },
      "execution_count": null,
      "outputs": []
    },
    {
      "cell_type": "markdown",
      "source": [
        "**Remove capital word**"
      ],
      "metadata": {
        "id": "_lXepdKoIQIC"
      }
    },
    {
      "cell_type": "code",
      "source": [],
      "metadata": {
        "id": "-vpbpEoiK71h"
      },
      "execution_count": null,
      "outputs": []
    },
    {
      "cell_type": "code",
      "source": [
        "manual_cleanup = [word.lower() for word in first_document.split(' ')]\n",
        "print(manual_cleanup)"
      ],
      "metadata": {
        "colab": {
          "base_uri": "https://localhost:8080/"
        },
        "id": "e5_tIUeeIU69",
        "outputId": "a1868251-2664-444c-80d4-5ae2b8337ad7"
      },
      "execution_count": 22,
      "outputs": [
        {
          "output_type": "stream",
          "name": "stdout",
          "text": [
            "['in', 'recognition', 'of', 'the', 'brave', 'and', 'altruistic', 'americans', 'who', 'risk', 'their', 'health', 'and', 'safety', 'for', 'the', 'greater', 'good,', 'pentagon', 'officials', 'announced', 'thursday', 'that', 'the', 'u.s.', 'military', 'would', 'honor', 'the', 'sacrifices', 'of', 'nfl', 'players', 'by', 'wearing', 'their', 'jerseys', 'throughout', 'december.', '“every', 'week,', 'these', 'men', 'are', 'out', 'there', 'on', 'the', 'gridiron,', 'putting', 'their', 'bodies', 'on', 'the', 'line', 'for', 'our', 'country.', 'having', 'our', 'soldiers', 'wear', 'these', 'jerseys', 'and', 'caps', 'is', 'the', 'least', 'we', 'can', 'do', 'to', 'show', 'our', 'support,”', 'said', 'pentagon', 'spokesperson', 'robert', 'd’amato,', 'who', 'announced', 'that', 'all', 'active-duty', 'soldiers', 'would', 'be', 'sporting', 'gear', 'from', 'all', '32', 'teams', 'to', 'raise', 'awareness', 'of', 'the', 'people', 'who', 'put', 'their', 'lives', 'aside', 'to', 'preserve', 'the', 'american', 'way', 'of', 'life.', '“these', 'men', 'leave', 'their', 'homes', 'and', 'their', 'families', 'and', 'travel', 'to', 'cities', 'across', 'the', 'country', 'to', 'uphold', 'our', 'nation’s', 'traditions.', 'they', 'are', 'battered', 'and', 'bruised', 'for', 'years,', 'their', 'lives', 'often', 'cut', 'short', 'while', 'we', 'sit', 'back', 'in', 'our', 'barracks', 'and', 'enjoy', 'our', 'freedom.', 'some', 'of', 'them', 'are', 'never', 'the', 'same', 'after', 'they', 'end', 'their', 'service,', 'and', 'yet', 'we', 'take', 'them', 'for', 'granted.', 'hopefully,', 'this', 'small', 'gesture', 'shows', 'that', 'the', 'soldiers', 'and', 'officers', 'of', 'the', 'u.s.', 'military', 'know', 'who', 'the', 'true', 'heroes', 'really', 'are.”']\n"
          ]
        }
      ]
    },
    {
      "cell_type": "markdown",
      "source": [
        "**Punctuation**"
      ],
      "metadata": {
        "id": "xCKdz7msIsWN"
      }
    },
    {
      "cell_type": "code",
      "source": [
        "manual_cleanup = [s.translate(str.maketrans('', '', string.punctuation))\\\n",
        "                  for s in manual_cleanup]"
      ],
      "metadata": {
        "id": "wFdB4IvoIZ2J"
      },
      "execution_count": 20,
      "outputs": []
    },
    {
      "cell_type": "code",
      "source": [
        "print(manual_cleanup)"
      ],
      "metadata": {
        "colab": {
          "base_uri": "https://localhost:8080/"
        },
        "id": "kqIbaxBfI1VW",
        "outputId": "1bb5f894-b9e7-459b-bba7-559577eeef60"
      },
      "execution_count": 23,
      "outputs": [
        {
          "output_type": "stream",
          "name": "stdout",
          "text": [
            "['in', 'recognition', 'of', 'the', 'brave', 'and', 'altruistic', 'americans', 'who', 'risk', 'their', 'health', 'and', 'safety', 'for', 'the', 'greater', 'good,', 'pentagon', 'officials', 'announced', 'thursday', 'that', 'the', 'u.s.', 'military', 'would', 'honor', 'the', 'sacrifices', 'of', 'nfl', 'players', 'by', 'wearing', 'their', 'jerseys', 'throughout', 'december.', '“every', 'week,', 'these', 'men', 'are', 'out', 'there', 'on', 'the', 'gridiron,', 'putting', 'their', 'bodies', 'on', 'the', 'line', 'for', 'our', 'country.', 'having', 'our', 'soldiers', 'wear', 'these', 'jerseys', 'and', 'caps', 'is', 'the', 'least', 'we', 'can', 'do', 'to', 'show', 'our', 'support,”', 'said', 'pentagon', 'spokesperson', 'robert', 'd’amato,', 'who', 'announced', 'that', 'all', 'active-duty', 'soldiers', 'would', 'be', 'sporting', 'gear', 'from', 'all', '32', 'teams', 'to', 'raise', 'awareness', 'of', 'the', 'people', 'who', 'put', 'their', 'lives', 'aside', 'to', 'preserve', 'the', 'american', 'way', 'of', 'life.', '“these', 'men', 'leave', 'their', 'homes', 'and', 'their', 'families', 'and', 'travel', 'to', 'cities', 'across', 'the', 'country', 'to', 'uphold', 'our', 'nation’s', 'traditions.', 'they', 'are', 'battered', 'and', 'bruised', 'for', 'years,', 'their', 'lives', 'often', 'cut', 'short', 'while', 'we', 'sit', 'back', 'in', 'our', 'barracks', 'and', 'enjoy', 'our', 'freedom.', 'some', 'of', 'them', 'are', 'never', 'the', 'same', 'after', 'they', 'end', 'their', 'service,', 'and', 'yet', 'we', 'take', 'them', 'for', 'granted.', 'hopefully,', 'this', 'small', 'gesture', 'shows', 'that', 'the', 'soldiers', 'and', 'officers', 'of', 'the', 'u.s.', 'military', 'know', 'who', 'the', 'true', 'heroes', 'really', 'are.”']\n"
          ]
        }
      ]
    },
    {
      "cell_type": "markdown",
      "source": [
        "**Removing stopwords**"
      ],
      "metadata": {
        "id": "f5R5EUVvKIF9"
      }
    },
    {
      "cell_type": "code",
      "source": [
        "stops = [token for token in manual_cleanup if token in stopwords.words('english')]\n",
        "stops[:10]"
      ],
      "metadata": {
        "colab": {
          "base_uri": "https://localhost:8080/"
        },
        "id": "TVaw03a4KRaC",
        "outputId": "2a5001cc-607d-4841-8904-56872fd5204a"
      },
      "execution_count": 24,
      "outputs": [
        {
          "output_type": "execute_result",
          "data": {
            "text/plain": [
              "['in', 'of', 'the', 'and', 'who', 'their', 'and', 'for', 'the', 'that']"
            ]
          },
          "metadata": {},
          "execution_count": 24
        }
      ]
    },
    {
      "cell_type": "code",
      "source": [
        "manual_cleanup = [token for token in manual_cleanup if\\\n",
        "                  token not in stopwords.words('english')]"
      ],
      "metadata": {
        "id": "XH7uz_cZKqnk"
      },
      "execution_count": 25,
      "outputs": []
    },
    {
      "cell_type": "code",
      "source": [
        "manual_cleanup = [s.translate(str.maketrans('', '', '0123456789')) \\\n",
        "                  for s in manual_cleanup]"
      ],
      "metadata": {
        "id": "gCNk7rq0K86W"
      },
      "execution_count": 26,
      "outputs": []
    },
    {
      "cell_type": "markdown",
      "source": [
        "- **Stemming- Getting the most important character of the word**\n",
        "noting=not\n",
        "resignation-signa\n",
        "- **Lemmatization- Getting the root of the name**\n",
        "\n"
      ],
      "metadata": {
        "id": "owP8_PrSLLcD"
      }
    },
    {
      "cell_type": "code",
      "source": [],
      "metadata": {
        "id": "IQazCy2WLt_K"
      },
      "execution_count": null,
      "outputs": []
    },
    {
      "cell_type": "markdown",
      "source": [
        "**Renepxp Tokenizer**"
      ],
      "metadata": {
        "id": "HqXXCFjBL-1h"
      }
    }
  ]
}